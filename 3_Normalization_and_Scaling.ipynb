{
  "nbformat": 4,
  "nbformat_minor": 0,
  "metadata": {
    "colab": {
      "provenance": [],
      "authorship_tag": "ABX9TyMAk4jHYiyJ2TFhiWVkh5KS",
      "include_colab_link": true
    },
    "kernelspec": {
      "name": "python3",
      "display_name": "Python 3"
    },
    "language_info": {
      "name": "python"
    }
  },
  "cells": [
    {
      "cell_type": "markdown",
      "metadata": {
        "id": "view-in-github",
        "colab_type": "text"
      },
      "source": [
        "<a href=\"https://colab.research.google.com/github/samer-glitch/Trustworthy-AI-Data-Pipeline-Framework/blob/main/3_Normalization_and_Scaling.ipynb\" target=\"_parent\"><img src=\"https://colab.research.google.com/assets/colab-badge.svg\" alt=\"Open In Colab\"/></a>"
      ]
    },
    {
      "cell_type": "code",
      "execution_count": null,
      "metadata": {
        "id": "wUJXsQmsQhLu"
      },
      "outputs": [],
      "source": [
        "import pandas as pd\n",
        "\n",
        "# Load dataset from a CSV file\n",
        "url = 'https://raw.githubusercontent.com/datasciencedojo/datasets/master/titanic.csv'\n",
        "df = pd.read_csv(url)"
      ]
    },
    {
      "cell_type": "code",
      "source": [
        "from sklearn.preprocessing import MinMaxScaler\n",
        "\n",
        "# Initialize Min-Max Scaler\n",
        "scaler = MinMaxScaler()\n",
        "\n",
        "# Apply scaling to numerical columns\n",
        "numerical_columns = ['Age', 'Fare', 'SibSp', 'Parch']\n",
        "df_normalized = df.copy()\n",
        "df_normalized[numerical_columns] = scaler.fit_transform(df[numerical_columns])\n",
        "\n",
        "# Display first few rows to verify scaling\n",
        "print(df_normalized[numerical_columns].head())\n"
      ],
      "metadata": {
        "colab": {
          "base_uri": "https://localhost:8080/"
        },
        "id": "Kj3IGu4PQy8_",
        "outputId": "5e63ae73-f2fa-4b92-9eb2-ecc888f761bd"
      },
      "execution_count": null,
      "outputs": [
        {
          "output_type": "stream",
          "name": "stdout",
          "text": [
            "        Age      Fare  SibSp  Parch\n",
            "0  0.271174  0.014151  0.125    0.0\n",
            "1  0.472229  0.139136  0.125    0.0\n",
            "2  0.321438  0.015469  0.000    0.0\n",
            "3  0.434531  0.103644  0.125    0.0\n",
            "4  0.434531  0.015713  0.000    0.0\n"
          ]
        }
      ]
    },
    {
      "cell_type": "code",
      "source": [
        "from sklearn.preprocessing import StandardScaler\n",
        "\n",
        "# Initialize Standard Scaler\n",
        "scaler = StandardScaler()\n",
        "\n",
        "# Apply scaling to numerical columns\n",
        "df_standardized = df.copy()\n",
        "df_standardized[numerical_columns] = scaler.fit_transform(df[numerical_columns])\n",
        "\n",
        "# Display first few rows to verify scaling\n",
        "print(df_standardized[numerical_columns].head())\n"
      ],
      "metadata": {
        "colab": {
          "base_uri": "https://localhost:8080/"
        },
        "id": "onSUFYZMRfJl",
        "outputId": "5bc88e7e-8323-415e-f1d4-7fe9beca28ce"
      },
      "execution_count": null,
      "outputs": [
        {
          "output_type": "stream",
          "name": "stdout",
          "text": [
            "        Age      Fare     SibSp     Parch\n",
            "0 -0.530377 -0.502445  0.432793 -0.473674\n",
            "1  0.571831  0.786845  0.432793 -0.473674\n",
            "2 -0.254825 -0.488854 -0.474545 -0.473674\n",
            "3  0.365167  0.420730  0.432793 -0.473674\n",
            "4  0.365167 -0.486337 -0.474545 -0.473674\n"
          ]
        }
      ]
    },
    {
      "cell_type": "code",
      "source": [
        "from sklearn.preprocessing import RobustScaler\n",
        "\n",
        "# Initialize Robust Scaler\n",
        "scaler = RobustScaler()\n",
        "\n",
        "# Apply scaling to numerical columns\n",
        "df_robust_scaled = df.copy()\n",
        "df_robust_scaled[numerical_columns] = scaler.fit_transform(df[numerical_columns])\n",
        "\n",
        "# Display first few rows to verify scaling\n",
        "print(df_robust_scaled[numerical_columns].head())\n"
      ],
      "metadata": {
        "id": "rBVo4LgWR5f2",
        "outputId": "be10e671-6875-48f0-c353-f30e1a34ac99",
        "colab": {
          "base_uri": "https://localhost:8080/"
        }
      },
      "execution_count": null,
      "outputs": [
        {
          "output_type": "stream",
          "name": "stdout",
          "text": [
            "        Age      Fare  SibSp  Parch\n",
            "0 -0.335664 -0.312011    1.0    0.0\n",
            "1  0.559441  2.461242    1.0    0.0\n",
            "2 -0.111888 -0.282777    0.0    0.0\n",
            "3  0.391608  1.673732    1.0    0.0\n",
            "4  0.391608 -0.277363    0.0    0.0\n"
          ]
        }
      ]
    }
  ]
}