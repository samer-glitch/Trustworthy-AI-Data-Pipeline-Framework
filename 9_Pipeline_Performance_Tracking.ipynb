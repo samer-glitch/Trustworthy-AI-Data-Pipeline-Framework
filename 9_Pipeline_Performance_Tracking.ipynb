{
  "nbformat": 4,
  "nbformat_minor": 0,
  "metadata": {
    "colab": {
      "provenance": [],
      "authorship_tag": "ABX9TyPlRJDrGlBIgn6B2jHab4E2",
      "include_colab_link": true
    },
    "kernelspec": {
      "name": "python3",
      "display_name": "Python 3"
    },
    "language_info": {
      "name": "python"
    }
  },
  "cells": [
    {
      "cell_type": "markdown",
      "metadata": {
        "id": "view-in-github",
        "colab_type": "text"
      },
      "source": [
        "<a href=\"https://colab.research.google.com/github/samer-glitch/Trustworthy-AI-Data-Pipeline-Framework/blob/main/9_Pipeline_Performance_Tracking.ipynb\" target=\"_parent\"><img src=\"https://colab.research.google.com/assets/colab-badge.svg\" alt=\"Open In Colab\"/></a>"
      ]
    },
    {
      "cell_type": "code",
      "execution_count": null,
      "metadata": {
        "colab": {
          "base_uri": "https://localhost:8080/"
        },
        "id": "urbEu1yW1r7H",
        "outputId": "57b7836a-fe39-4085-b91f-5e031233fa0a"
      },
      "outputs": [
        {
          "output_type": "stream",
          "name": "stdout",
          "text": [
            "Missing values percentage before preprocessing (rounded to 2 decimal places):\n",
            "PassengerId     0.00\n",
            "Survived        0.00\n",
            "Pclass          0.00\n",
            "Name            0.00\n",
            "Sex             0.00\n",
            "Age            19.87\n",
            "SibSp           0.00\n",
            "Parch           0.00\n",
            "Ticket          0.00\n",
            "Fare            0.00\n",
            "Cabin          77.10\n",
            "Embarked        0.22\n",
            "dtype: float64\n",
            "Missing values percentage after preprocessing (rounded to 2 decimal places):\n",
            "PassengerId    0.0\n",
            "Survived       0.0\n",
            "Pclass         0.0\n",
            "Name           0.0\n",
            "Sex            0.0\n",
            "Age            0.0\n",
            "SibSp          0.0\n",
            "Parch          0.0\n",
            "Ticket         0.0\n",
            "Fare           0.0\n",
            "Cabin          0.0\n",
            "Embarked       0.0\n",
            "dtype: float64\n"
          ]
        }
      ],
      "source": [
        "import pandas as pd\n",
        "import numpy as np\n",
        "\n",
        "# Load dataset\n",
        "url = 'https://raw.githubusercontent.com/datasciencedojo/datasets/master/titanic.csv'\n",
        "df = pd.read_csv(url)\n",
        "\n",
        "# Calculate percentage of missing values before preprocessing\n",
        "missing_before = df.isnull().mean() * 100\n",
        "print(\"Missing values percentage before preprocessing (rounded to 2 decimal places):\")\n",
        "print(missing_before.round(2))\n",
        "\n",
        "# Handle missing values by filling with median for numerical columns and mode for categorical columns\n",
        "df_copy = df.copy()  # Create a copy to avoid issues with chained assignment\n",
        "\n",
        "for column in df_copy.columns:\n",
        "    if df_copy[column].dtype in ['float64', 'int64']:\n",
        "        df_copy[column] = df_copy[column].fillna(df_copy[column].median())\n",
        "    else:\n",
        "        df_copy[column] = df_copy[column].fillna(df_copy[column].mode()[0])\n",
        "\n",
        "# Calculate percentage of missing values after preprocessing\n",
        "missing_after = df_copy.isnull().mean() * 100\n",
        "print(\"Missing values percentage after preprocessing (rounded to 2 decimal places):\")\n",
        "print(missing_after.round(2))"
      ]
    },
    {
      "cell_type": "code",
      "source": [
        "import time\n",
        "import pandas as pd\n",
        "\n",
        "# Load dataset\n",
        "url = 'https://raw.githubusercontent.com/datasciencedojo/datasets/master/titanic.csv'\n",
        "df = pd.read_csv(url)\n",
        "\n",
        "# Start timing\n",
        "start_time = time.time()\n",
        "\n",
        "# Handle missing values by processing only numerical columns for median imputation\n",
        "numeric_columns = df.select_dtypes(include=['float64', 'int64']).columns\n",
        "df[numeric_columns] = df[numeric_columns].fillna(df[numeric_columns].median())\n",
        "\n",
        "# End timing\n",
        "end_time = time.time()\n",
        "\n",
        "# Calculate processing time\n",
        "processing_time = end_time - start_time\n",
        "print(f\"Data preprocessing time: {processing_time:.2f} seconds\")\n"
      ],
      "metadata": {
        "colab": {
          "base_uri": "https://localhost:8080/"
        },
        "id": "N3h1tFcq2sqV",
        "outputId": "07c6be96-d8eb-4804-cb65-7004631a6118"
      },
      "execution_count": null,
      "outputs": [
        {
          "output_type": "stream",
          "name": "stdout",
          "text": [
            "Data preprocessing time: 0.01 seconds\n"
          ]
        }
      ]
    },
    {
      "cell_type": "code",
      "source": [],
      "metadata": {
        "id": "ib_KOmhj3EYS"
      },
      "execution_count": null,
      "outputs": []
    }
  ]
}